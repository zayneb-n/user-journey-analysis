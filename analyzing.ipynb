{
 "cells": [
  {
   "cell_type": "code",
   "execution_count": 1,
   "id": "789fea0e-b2d5-4210-861c-7cca2699cdc1",
   "metadata": {},
   "outputs": [
    {
     "name": "stdout",
     "output_type": "stream",
     "text": [
      "   user_id                                       user_journey  \\\n",
      "0     1516  Homepage-Other-Sign up-Homepage-Checkout-Coupo...   \n",
      "1     1516  Homepage-Other-Sign up-Homepage-Checkout-Coupo...   \n",
      "2     1516  Homepage-Other-Sign up-Homepage-Checkout-Coupo...   \n",
      "3     1516  Homepage-Other-Sign up-Homepage-Checkout-Coupo...   \n",
      "4     1516  Homepage-Other-Sign up-Homepage-Checkout-Coupo...   \n",
      "\n",
      "  subscription_type  \n",
      "0            Annual  \n",
      "1            Annual  \n",
      "2            Annual  \n",
      "3            Annual  \n",
      "4            Annual  \n"
     ]
    }
   ],
   "source": [
    "import pandas as pd\n",
    "\n",
    "file_path = 'final_data.csv'\n",
    "df = pd.read_csv(file_path)\n",
    "print(df.head())"
   ]
  },
  {
   "cell_type": "code",
   "execution_count": 2,
   "id": "62780ec5-3a6f-4f8e-9306-86f524c86363",
   "metadata": {},
   "outputs": [
    {
     "data": {
      "text/html": [
       "<div>\n",
       "<style scoped>\n",
       "    .dataframe tbody tr th:only-of-type {\n",
       "        vertical-align: middle;\n",
       "    }\n",
       "\n",
       "    .dataframe tbody tr th {\n",
       "        vertical-align: top;\n",
       "    }\n",
       "\n",
       "    .dataframe thead th {\n",
       "        text-align: right;\n",
       "    }\n",
       "</style>\n",
       "<table border=\"1\" class=\"dataframe\">\n",
       "  <thead>\n",
       "    <tr style=\"text-align: right;\">\n",
       "      <th></th>\n",
       "      <th>user_id</th>\n",
       "      <th>user_journey</th>\n",
       "      <th>subscription_type</th>\n",
       "    </tr>\n",
       "  </thead>\n",
       "  <tbody>\n",
       "    <tr>\n",
       "      <th>0</th>\n",
       "      <td>1516</td>\n",
       "      <td>Homepage-Other-Sign up-Homepage-Checkout-Coupo...</td>\n",
       "      <td>Annual</td>\n",
       "    </tr>\n",
       "    <tr>\n",
       "      <th>1</th>\n",
       "      <td>1516</td>\n",
       "      <td>Homepage-Other-Sign up-Homepage-Checkout-Coupo...</td>\n",
       "      <td>Annual</td>\n",
       "    </tr>\n",
       "    <tr>\n",
       "      <th>2</th>\n",
       "      <td>1516</td>\n",
       "      <td>Homepage-Other-Sign up-Homepage-Checkout-Coupo...</td>\n",
       "      <td>Annual</td>\n",
       "    </tr>\n",
       "    <tr>\n",
       "      <th>3</th>\n",
       "      <td>1516</td>\n",
       "      <td>Homepage-Other-Sign up-Homepage-Checkout-Coupo...</td>\n",
       "      <td>Annual</td>\n",
       "    </tr>\n",
       "    <tr>\n",
       "      <th>4</th>\n",
       "      <td>1516</td>\n",
       "      <td>Homepage-Other-Sign up-Homepage-Checkout-Coupo...</td>\n",
       "      <td>Annual</td>\n",
       "    </tr>\n",
       "  </tbody>\n",
       "</table>\n",
       "</div>"
      ],
      "text/plain": [
       "   user_id                                       user_journey  \\\n",
       "0     1516  Homepage-Other-Sign up-Homepage-Checkout-Coupo...   \n",
       "1     1516  Homepage-Other-Sign up-Homepage-Checkout-Coupo...   \n",
       "2     1516  Homepage-Other-Sign up-Homepage-Checkout-Coupo...   \n",
       "3     1516  Homepage-Other-Sign up-Homepage-Checkout-Coupo...   \n",
       "4     1516  Homepage-Other-Sign up-Homepage-Checkout-Coupo...   \n",
       "\n",
       "  subscription_type  \n",
       "0            Annual  \n",
       "1            Annual  \n",
       "2            Annual  \n",
       "3            Annual  \n",
       "4            Annual  "
      ]
     },
     "execution_count": 2,
     "metadata": {},
     "output_type": "execute_result"
    }
   ],
   "source": [
    "df.head()"
   ]
  },
  {
   "cell_type": "code",
   "execution_count": 3,
   "id": "28a71cc5-60d3-4af5-b547-1a61da0999f7",
   "metadata": {},
   "outputs": [
    {
     "name": "stdout",
     "output_type": "stream",
     "text": [
      "   user_id                                       user_journey  \\\n",
      "0     1516  [Homepage, Other, Sign up, Homepage, Checkout,...   \n",
      "1     1516  [Homepage, Other, Sign up, Homepage, Checkout,...   \n",
      "2     1516  [Homepage, Other, Sign up, Homepage, Checkout,...   \n",
      "3     1516  [Homepage, Other, Sign up, Homepage, Checkout,...   \n",
      "4     1516  [Homepage, Other, Sign up, Homepage, Checkout,...   \n",
      "\n",
      "  subscription_type  \n",
      "0            Annual  \n",
      "1            Annual  \n",
      "2            Annual  \n",
      "3            Annual  \n",
      "4            Annual  \n"
     ]
    }
   ],
   "source": [
    "#process the user journey to perform the page count \n",
    "# Split user journeys into lists of pages\n",
    "df['user_journey'] = df['user_journey'].str.split('-')\n",
    "\n",
    "print(df.head())"
   ]
  },
  {
   "cell_type": "code",
   "execution_count": 12,
   "id": "6bacd56e-fabc-41a1-baa0-ee28623c3d36",
   "metadata": {},
   "outputs": [
    {
     "name": "stdout",
     "output_type": "stream",
     "text": [
      "0    [Homepage, Other, Sign up, Homepage, Checkout,...\n",
      "1    [Homepage, Other, Sign up, Homepage, Checkout,...\n",
      "2    [Homepage, Other, Sign up, Homepage, Checkout,...\n",
      "3    [Homepage, Other, Sign up, Homepage, Checkout,...\n",
      "4    [Homepage, Other, Sign up, Homepage, Checkout,...\n",
      "Name: user_journey, dtype: object\n",
      "user_journey\n",
      "<class 'list'>     9934\n",
      "<class 'float'>       1\n",
      "Name: count, dtype: int64\n"
     ]
    }
   ],
   "source": [
    "print(df['user_journey'].head())\n",
    "print(df['user_journey'].apply(type).value_counts())"
   ]
  },
  {
   "cell_type": "code",
   "execution_count": 13,
   "id": "86e54f6d-2da0-458d-ae90-d0c269e0bda3",
   "metadata": {},
   "outputs": [],
   "source": [
    "df = df[df['user_journey'].apply(lambda x: isinstance(x, list))]"
   ]
  },
  {
   "cell_type": "code",
   "execution_count": 14,
   "id": "49065fca-2daf-470f-a5d9-092b38250f68",
   "metadata": {},
   "outputs": [
    {
     "name": "stdout",
     "output_type": "stream",
     "text": [
      "0    [Homepage, Other, Sign up, Homepage, Checkout,...\n",
      "1    [Homepage, Other, Sign up, Homepage, Checkout,...\n",
      "2    [Homepage, Other, Sign up, Homepage, Checkout,...\n",
      "3    [Homepage, Other, Sign up, Homepage, Checkout,...\n",
      "4    [Homepage, Other, Sign up, Homepage, Checkout,...\n",
      "Name: user_journey, dtype: object\n"
     ]
    }
   ],
   "source": [
    "print(df['user_journey'].head())"
   ]
  },
  {
   "cell_type": "code",
   "execution_count": 15,
   "id": "bd6ec03d-bb17-4ef4-b802-a2d57accd1e9",
   "metadata": {},
   "outputs": [],
   "source": [
    "def calculate_page_count(data):\n",
    "    all_pages = [page for journey in data['user_journey'] for page in journey]\n",
    "    return pd.Series(all_pages).value_counts()"
   ]
  },
  {
   "cell_type": "code",
   "execution_count": 16,
   "id": "6a834a88-db36-4e2c-80df-7c789c62036a",
   "metadata": {},
   "outputs": [],
   "source": [
    "def calculate_page_presence(data):\n",
    "    unique_pages = data['user_journey'].apply(set)\n",
    "    all_pages = [page for journey in unique_pages for page in journey]\n",
    "    return pd.Series(all_pages).value_counts()"
   ]
  },
  {
   "cell_type": "code",
   "execution_count": 17,
   "id": "66820d2f-bcef-45d3-817d-9669ddd7c277",
   "metadata": {},
   "outputs": [],
   "source": [
    "def calculate_page_destination(data):\n",
    "    transitions = []\n",
    "    for journey in data['user_journey']:\n",
    "        transitions += [(journey[i], journey[i+1]) for i in range(len(journey)-1)]\n",
    "    transition_counts = pd.DataFrame(transitions, columns=['current_page', 'next_page']).value_counts()\n",
    "    return transition_counts.reset_index(name='count')"
   ]
  },
  {
   "cell_type": "code",
   "execution_count": 18,
   "id": "408f5510-d8ef-467f-a46c-0e43b1537abc",
   "metadata": {},
   "outputs": [],
   "source": [
    "def calculate_page_sequences(data, n=3):\n",
    "    sequences = []\n",
    "    for journey in data['user_journey']:\n",
    "        sequences += [tuple(journey[i:i+n]) for i in range(len(journey)-n+1)]\n",
    "    return pd.Series(sequences).value_counts()"
   ]
  },
  {
   "cell_type": "code",
   "execution_count": 19,
   "id": "207d75a7-576c-41f5-9a80-42ee3d122b7c",
   "metadata": {},
   "outputs": [],
   "source": [
    "def calculate_journey_length(data):\n",
    "    journey_lengths = data['user_journey'].apply(len)\n",
    "    return journey_lengths.mean()"
   ]
  },
  {
   "cell_type": "code",
   "execution_count": 20,
   "id": "b39337df-6b90-4ad1-a16a-1ab51fffe91d",
   "metadata": {},
   "outputs": [],
   "source": [
    "def analyze_by_subscription_type(data, metric_function, **kwargs):\n",
    "    results = {}\n",
    "    for sub_type, group in data.groupby('subscription_type'):\n",
    "        results[sub_type] = metric_function(group, **kwargs)\n",
    "    return results"
   ]
  },
  {
   "cell_type": "markdown",
   "id": "566198cd-61c2-4bd6-a155-33a00d54658e",
   "metadata": {},
   "source": [
    "## Calculate and display results "
   ]
  },
  {
   "cell_type": "code",
   "execution_count": 21,
   "id": "fd5ed877-85f7-4333-8cb2-bdef33f68866",
   "metadata": {},
   "outputs": [
    {
     "name": "stdout",
     "output_type": "stream",
     "text": [
      "Page Count:\n",
      " Other                       31537\n",
      "Homepage                    30666\n",
      "Resources center            24354\n",
      "Checkout                    15818\n",
      "Courses                     15770\n",
      "Career tracks               15189\n",
      "Pricing                     13653\n",
      "Sign up                     13248\n",
      "Coupon                       5718\n",
      "Career track certificate     5536\n",
      "Course certificate           2520\n",
      "Upcoming courses             1571\n",
      "Success stories               835\n",
      "Instructors                   634\n",
      "Blog                          215\n",
      "About us                      214\n",
      "Name: count, dtype: int64\n",
      "\n",
      "Page Presence:\n",
      " Homepage                    7925\n",
      "Checkout                    7600\n",
      "Sign up                     6582\n",
      "Other                       6346\n",
      "Pricing                     4585\n",
      "Courses                     4380\n",
      "Coupon                      4112\n",
      "Career tracks               3764\n",
      "Resources center            2473\n",
      "Career track certificate    2398\n",
      "Course certificate          1600\n",
      "Upcoming courses             914\n",
      "Success stories              504\n",
      "Instructors                  317\n",
      "About us                     178\n",
      "Blog                         158\n",
      "Name: count, dtype: int64\n",
      "\n",
      "Page Destination:\n",
      "          current_page         next_page  count\n",
      "0    Resources center             Other  21622\n",
      "1               Other  Resources center  20810\n",
      "2            Homepage     Career tracks   5865\n",
      "3            Homepage           Pricing   5830\n",
      "4       Career tracks           Courses   5573\n",
      "..                ...               ...    ...\n",
      "191          About us       Instructors      6\n",
      "192              Blog  Resources center      5\n",
      "193       Instructors          Checkout      5\n",
      "194  Resources center       Instructors      3\n",
      "195   Success stories          About us      2\n",
      "\n",
      "[196 rows x 3 columns]\n",
      "\n",
      "Page Sequences:\n",
      " (Other, Resources center, Other)                       20168\n",
      "(Resources center, Other, Resources center)            20159\n",
      "(Career tracks, Courses, Career tracks)                 3025\n",
      "(Courses, Career tracks, Courses)                       2513\n",
      "(Homepage, Sign up, Homepage)                           2200\n",
      "                                                       ...  \n",
      "(Other, Career track certificate, Coupon)                  2\n",
      "(Upcoming courses, Career tracks, Upcoming courses)        2\n",
      "(Coupon, Other, Success stories)                           2\n",
      "(Career tracks, Pricing, Coupon)                           2\n",
      "(Homepage, Upcoming courses, Other)                        2\n",
      "Name: count, Length: 1130, dtype: int64\n",
      "\n",
      "Average Journey Length: 17.865713710489228\n",
      "\n",
      "Metrics by Subscription Type:\n",
      " {'Annual': Other                       28045\n",
      "Resources center            23365\n",
      "Homepage                    21266\n",
      "Career tracks               11179\n",
      "Courses                     10289\n",
      "Pricing                     10105\n",
      "Checkout                     9401\n",
      "Sign up                      8189\n",
      "Coupon                       5107\n",
      "Career track certificate     4029\n",
      "Course certificate           1627\n",
      "Upcoming courses              933\n",
      "Success stories               679\n",
      "Instructors                   590\n",
      "About us                      178\n",
      "Blog                          170\n",
      "Name: count, dtype: int64, 'Monthly': Homepage                    8402\n",
      "Checkout                    5802\n",
      "Courses                     5101\n",
      "Sign up                     4473\n",
      "Career tracks               3646\n",
      "Pricing                     3218\n",
      "Other                       3211\n",
      "Career track certificate    1284\n",
      "Resources center             886\n",
      "Course certificate           781\n",
      "Upcoming courses             606\n",
      "Coupon                       517\n",
      "Success stories              119\n",
      "Blog                          45\n",
      "Instructors                   44\n",
      "About us                      16\n",
      "Name: count, dtype: int64, 'Quarterly': Homepage                    998\n",
      "Checkout                    615\n",
      "Sign up                     586\n",
      "Courses                     380\n",
      "Career tracks               364\n",
      "Pricing                     330\n",
      "Other                       281\n",
      "Career track certificate    223\n",
      "Course certificate          112\n",
      "Resources center            103\n",
      "Coupon                       94\n",
      "Success stories              37\n",
      "Upcoming courses             32\n",
      "About us                     20\n",
      "Name: count, dtype: int64}\n"
     ]
    }
   ],
   "source": [
    "# Calculate Metrics\n",
    "page_count = calculate_page_count(df)\n",
    "page_presence = calculate_page_presence(df)\n",
    "page_destination = calculate_page_destination(df)\n",
    "page_sequences = calculate_page_sequences(df, n=3)\n",
    "avg_journey_length = calculate_journey_length(df)\n",
    "\n",
    "# Display Results\n",
    "print(\"Page Count:\\n\", page_count)\n",
    "print(\"\\nPage Presence:\\n\", page_presence)\n",
    "print(\"\\nPage Destination:\\n\", page_destination)\n",
    "print(\"\\nPage Sequences:\\n\", page_sequences)\n",
    "print(\"\\nAverage Journey Length:\", avg_journey_length)\n",
    "\n",
    "# Metrics by Subscription Type\n",
    "metrics_by_subscription = analyze_by_subscription_type(df, calculate_page_count)\n",
    "print(\"\\nMetrics by Subscription Type:\\n\", metrics_by_subscription)"
   ]
  },
  {
   "cell_type": "code",
   "execution_count": 23,
   "id": "68e69ed6-db81-48bc-8117-d768445afbee",
   "metadata": {},
   "outputs": [
    {
     "data": {
      "image/png": "[encoded data removed]",
      "text/plain": [
       "<Figure size 640x480 with 1 Axes>"
      ]
     },
     "metadata": {},
     "output_type": "display_data"
    }
   ],
   "source": [
    "import matplotlib.pyplot as plt\n",
    "\n",
    "# Visualize Page Count\n",
    "page_count.plot(kind='bar', title='Page Count')\n",
    "plt.xlabel('Page')\n",
    "plt.ylabel('Count')\n",
    "plt.show()"
   ]
  },
  {
   "cell_type": "code",
   "execution_count": null,
   "id": "d0d03f83-2c48-439e-93e3-784e824d4d05",
   "metadata": {},
   "outputs": [],
   "source": []
  }
 ],
 "metadata": {
  "kernelspec": {
   "display_name": "Python 3 (ipykernel)",
   "language": "python",
   "name": "python3"
  },
  "language_info": {
   "codemirror_mode": {
    "name": "ipython",
    "version": 3
   },
   "file_extension": ".py",
   "mimetype": "text/x-python",
   "name": "python",
   "nbconvert_exporter": "python",
   "pygments_lexer": "ipython3",
   "version": "3.12.2"
  }
 },
 "nbformat": 4,
 "nbformat_minor": 5
}
